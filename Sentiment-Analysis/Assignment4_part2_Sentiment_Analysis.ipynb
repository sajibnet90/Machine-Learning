{
 "cells": [
  {
   "cell_type": "markdown",
   "id": "3996fbab",
   "metadata": {},
   "source": [
    "# N-gram defination (aka bag of n-grams)"
   ]
  },
  {
   "cell_type": "code",
   "execution_count": 46,
   "id": "567b05b0",
   "metadata": {},
   "outputs": [
    {
     "name": "stdout",
     "output_type": "stream",
     "text": [
      "Feature names: ['all', 'all scream', 'cream', 'eat', 'eat ice', 'for', 'for ice', 'ice', 'ice cream', 'love', 'love to', 'scream', 'scream for', 'scream we', 'scream you', 'to', 'to eat', 'we', 'we all', 'you', 'you scream']\n",
      "\n",
      "N-gram representation:\n",
      " [[0 0 1 1 1 0 0 1 1 1 1 0 0 0 0 1 1 0 0 0 0]\n",
      " [1 1 1 0 0 1 1 1 1 0 0 3 1 1 1 0 0 1 1 1 1]]\n"
     ]
    }
   ],
   "source": [
    "from sklearn.feature_extraction.text import CountVectorizer\n",
    "\n",
    "sentences = [\"I love to eat ice cream.\", \"I scream, you scream, we all scream for ice cream!\"]\n",
    "\n",
    "# CountVectorizer with desired n-gram value\n",
    "v = CountVectorizer(ngram_range=(1,2))  # Generates from 1 to 3 grams\n",
    "\n",
    "ngrams = v.fit_transform(sentences)\n",
    "\n",
    "# Get the feature names \n",
    "feature_names = v.get_feature_names()\n",
    "\n",
    "# Print the feature names and the n-gram representation\n",
    "print(\"Feature names:\", feature_names)\n",
    "print()\n",
    "print(\"N-gram representation:\\n\", ngrams.toarray())\n"
   ]
  },
  {
   "cell_type": "code",
   "execution_count": 3,
   "id": "232280d6",
   "metadata": {},
   "outputs": [
    {
     "data": {
      "text/plain": [
       "{'love': 12,\n",
       " 'to': 22,\n",
       " 'eat': 4,\n",
       " 'ice': 10,\n",
       " 'cream': 3,\n",
       " 'love to': 13,\n",
       " 'to eat': 23,\n",
       " 'eat ice': 5,\n",
       " 'ice cream': 11,\n",
       " 'love to eat': 14,\n",
       " 'to eat ice': 24,\n",
       " 'eat ice cream': 6,\n",
       " 'scream': 15,\n",
       " 'you': 28,\n",
       " 'we': 25,\n",
       " 'all': 0,\n",
       " 'for': 7,\n",
       " 'scream you': 20,\n",
       " 'you scream': 29,\n",
       " 'scream we': 18,\n",
       " 'we all': 26,\n",
       " 'all scream': 1,\n",
       " 'scream for': 16,\n",
       " 'for ice': 8,\n",
       " 'scream you scream': 21,\n",
       " 'you scream we': 30,\n",
       " 'scream we all': 19,\n",
       " 'we all scream': 27,\n",
       " 'all scream for': 2,\n",
       " 'scream for ice': 17,\n",
       " 'for ice cream': 9}"
      ]
     },
     "execution_count": 3,
     "metadata": {},
     "output_type": "execute_result"
    }
   ],
   "source": [
    "voca=v.vocabulary_\n",
    "voca #it shows the index of the features e.g= 'love': 12 (at index 12)"
   ]
  },
  {
   "cell_type": "code",
   "execution_count": 4,
   "id": "6f63e291",
   "metadata": {},
   "outputs": [
    {
     "name": "stdout",
     "output_type": "stream",
     "text": [
      "12\n",
      "31\n"
     ]
    }
   ],
   "source": [
    "print(voca['love'])\n",
    "print(len(v.get_feature_names()))"
   ]
  },
  {
   "cell_type": "code",
   "execution_count": null,
   "id": "03636770",
   "metadata": {},
   "outputs": [],
   "source": [
    "'''\n",
    "N-grams may increse the dimensionalty and sparcity thats means it increase the feathers as well. so when n-value is high\n",
    "there will be large number of vocabulary, Then the model easily finds patterns in the training data hence increase \n",
    "risk of overfitting\n",
    "'''"
   ]
  },
  {
   "cell_type": "code",
   "execution_count": null,
   "id": "43330fc7",
   "metadata": {},
   "outputs": [],
   "source": [
    "'''by including punctuation in n-grams, we can capture  valuable contextual information \n",
    "that can be benifecial in tasks such as sentiment analysis, dialog modeling etc\n",
    "\n",
    "Also we can easily derived the structure and grammmer of a language like using question mark(?), ! mark we can\n",
    "differntiate the tone of a sentence\n",
    "'''"
   ]
  },
  {
   "cell_type": "markdown",
   "id": "1a7c0435",
   "metadata": {},
   "source": [
    "# Sentiment AnaLaysis"
   ]
  },
  {
   "cell_type": "code",
   "execution_count": 5,
   "id": "1f15e215",
   "metadata": {},
   "outputs": [],
   "source": [
    "import numpy as np\n",
    "import pandas as pd\n",
    "import seaborn as sns\n",
    "import matplotlib.pyplot as pl\n",
    "%matplotlib inline\n"
   ]
  },
  {
   "cell_type": "code",
   "execution_count": 6,
   "id": "59a70611",
   "metadata": {},
   "outputs": [
    {
     "data": {
      "text/html": [
       "<div>\n",
       "<style scoped>\n",
       "    .dataframe tbody tr th:only-of-type {\n",
       "        vertical-align: middle;\n",
       "    }\n",
       "\n",
       "    .dataframe tbody tr th {\n",
       "        vertical-align: top;\n",
       "    }\n",
       "\n",
       "    .dataframe thead th {\n",
       "        text-align: right;\n",
       "    }\n",
       "</style>\n",
       "<table border=\"1\" class=\"dataframe\">\n",
       "  <thead>\n",
       "    <tr style=\"text-align: right;\">\n",
       "      <th></th>\n",
       "      <th>Review</th>\n",
       "      <th>Rating</th>\n",
       "    </tr>\n",
       "  </thead>\n",
       "  <tbody>\n",
       "    <tr>\n",
       "      <th>0</th>\n",
       "      <td>nice hotel expensive parking got good deal sta...</td>\n",
       "      <td>4</td>\n",
       "    </tr>\n",
       "    <tr>\n",
       "      <th>1</th>\n",
       "      <td>ok nothing special charge diamond member hilto...</td>\n",
       "      <td>2</td>\n",
       "    </tr>\n",
       "    <tr>\n",
       "      <th>2</th>\n",
       "      <td>nice rooms not 4* experience hotel monaco seat...</td>\n",
       "      <td>3</td>\n",
       "    </tr>\n",
       "    <tr>\n",
       "      <th>3</th>\n",
       "      <td>unique, great stay, wonderful time hotel monac...</td>\n",
       "      <td>5</td>\n",
       "    </tr>\n",
       "    <tr>\n",
       "      <th>4</th>\n",
       "      <td>great stay great stay, went seahawk game aweso...</td>\n",
       "      <td>5</td>\n",
       "    </tr>\n",
       "  </tbody>\n",
       "</table>\n",
       "</div>"
      ],
      "text/plain": [
       "                                              Review  Rating\n",
       "0  nice hotel expensive parking got good deal sta...       4\n",
       "1  ok nothing special charge diamond member hilto...       2\n",
       "2  nice rooms not 4* experience hotel monaco seat...       3\n",
       "3  unique, great stay, wonderful time hotel monac...       5\n",
       "4  great stay great stay, went seahawk game aweso...       5"
      ]
     },
     "execution_count": 6,
     "metadata": {},
     "output_type": "execute_result"
    }
   ],
   "source": [
    "#Importing the dataset\n",
    "df =pd.read_csv(\"tripadvisor_hotel.csv\")\n",
    "# look the data set\n",
    "df.head()"
   ]
  },
  {
   "cell_type": "code",
   "execution_count": 7,
   "id": "b199a9d9",
   "metadata": {},
   "outputs": [
    {
     "name": "stdout",
     "output_type": "stream",
     "text": [
      "<class 'pandas.core.frame.DataFrame'>\n",
      "RangeIndex: 20491 entries, 0 to 20490\n",
      "Data columns (total 2 columns):\n",
      " #   Column  Non-Null Count  Dtype \n",
      "---  ------  --------------  ----- \n",
      " 0   Review  20491 non-null  object\n",
      " 1   Rating  20491 non-null  int64 \n",
      "dtypes: int64(1), object(1)\n",
      "memory usage: 320.3+ KB\n"
     ]
    }
   ],
   "source": [
    "df.info()"
   ]
  },
  {
   "cell_type": "code",
   "execution_count": 8,
   "id": "c47d196d",
   "metadata": {},
   "outputs": [
    {
     "name": "stdout",
     "output_type": "stream",
     "text": [
      "Is there Duplicate values?\n",
      "0\n",
      "5    9054\n",
      "4    6039\n",
      "3    2184\n",
      "2    1793\n",
      "1    1421\n",
      "Name: Rating, dtype: int64\n"
     ]
    }
   ],
   "source": [
    "# any duplicate data \n",
    "print (\"Is there Duplicate values?\")\n",
    "print(df.duplicated().sum())\n",
    "\n",
    "print(df['Rating'].value_counts())"
   ]
  },
  {
   "cell_type": "code",
   "execution_count": 9,
   "id": "6a5c0ab7",
   "metadata": {},
   "outputs": [
    {
     "name": "stderr",
     "output_type": "stream",
     "text": [
      "/Users/data_course/opt/anaconda3/lib/python3.9/site-packages/seaborn/_decorators.py:36: FutureWarning: Pass the following variable as a keyword arg: x. From version 0.12, the only valid positional argument will be `data`, and passing other arguments without an explicit keyword will result in an error or misinterpretation.\n",
      "  warnings.warn(\n"
     ]
    },
    {
     "data": {
      "image/png": "[encoded data removed]",
      "text/plain": [
       "<Figure size 640x480 with 1 Axes>"
      ]
     },
     "metadata": {},
     "output_type": "display_data"
    }
   ],
   "source": [
    "# how much rating in the dataset\n",
    "\n",
    "sns.countplot(df['Rating'])\n",
    "pl.show()\n"
   ]
  },
  {
   "cell_type": "code",
   "execution_count": 10,
   "id": "e32566c7",
   "metadata": {},
   "outputs": [],
   "source": [
    "df_neg = df.loc[df['Rating']<3]\n",
    "df_neg = df_neg.reset_index (drop =True)#doesn't hold the old index"
   ]
  },
  {
   "cell_type": "code",
   "execution_count": 11,
   "id": "8299bf49",
   "metadata": {},
   "outputs": [],
   "source": [
    "df_pos = df.loc[df['Rating']>=4]\n",
    "df_pos = df_pos.reset_index (drop =True)"
   ]
  },
  {
   "cell_type": "code",
   "execution_count": 12,
   "id": "b7ca7cad",
   "metadata": {},
   "outputs": [
    {
     "name": "stdout",
     "output_type": "stream",
     "text": [
      "15093\n"
     ]
    }
   ],
   "source": [
    "print(len(df_pos))"
   ]
  },
  {
   "cell_type": "code",
   "execution_count": 13,
   "id": "d0664f16",
   "metadata": {},
   "outputs": [],
   "source": [
    "df_pos = df_pos.loc[:len(df_neg)]"
   ]
  },
  {
   "cell_type": "code",
   "execution_count": 14,
   "id": "1a623e29",
   "metadata": {},
   "outputs": [
    {
     "name": "stdout",
     "output_type": "stream",
     "text": [
      "3215\n"
     ]
    }
   ],
   "source": [
    "print(len(df_pos))"
   ]
  },
  {
   "cell_type": "code",
   "execution_count": 15,
   "id": "1caf0e01",
   "metadata": {},
   "outputs": [],
   "source": [
    "df_all = pd.concat([df_pos,df_neg], axis=0)\n",
    "df_pos = df_pos.reset_index (drop =True)"
   ]
  },
  {
   "cell_type": "code",
   "execution_count": 16,
   "id": "8f1333ea",
   "metadata": {},
   "outputs": [
    {
     "data": {
      "text/html": [
       "<div>\n",
       "<style scoped>\n",
       "    .dataframe tbody tr th:only-of-type {\n",
       "        vertical-align: middle;\n",
       "    }\n",
       "\n",
       "    .dataframe tbody tr th {\n",
       "        vertical-align: top;\n",
       "    }\n",
       "\n",
       "    .dataframe thead th {\n",
       "        text-align: right;\n",
       "    }\n",
       "</style>\n",
       "<table border=\"1\" class=\"dataframe\">\n",
       "  <thead>\n",
       "    <tr style=\"text-align: right;\">\n",
       "      <th></th>\n",
       "      <th>Review</th>\n",
       "      <th>Rating</th>\n",
       "    </tr>\n",
       "  </thead>\n",
       "  <tbody>\n",
       "    <tr>\n",
       "      <th>0</th>\n",
       "      <td>nice hotel expensive parking got good deal sta...</td>\n",
       "      <td>4</td>\n",
       "    </tr>\n",
       "    <tr>\n",
       "      <th>1</th>\n",
       "      <td>unique, great stay, wonderful time hotel monac...</td>\n",
       "      <td>5</td>\n",
       "    </tr>\n",
       "    <tr>\n",
       "      <th>2</th>\n",
       "      <td>great stay great stay, went seahawk game aweso...</td>\n",
       "      <td>5</td>\n",
       "    </tr>\n",
       "    <tr>\n",
       "      <th>3</th>\n",
       "      <td>love monaco staff husband stayed hotel crazy w...</td>\n",
       "      <td>5</td>\n",
       "    </tr>\n",
       "    <tr>\n",
       "      <th>4</th>\n",
       "      <td>cozy stay rainy city, husband spent 7 nights m...</td>\n",
       "      <td>5</td>\n",
       "    </tr>\n",
       "  </tbody>\n",
       "</table>\n",
       "</div>"
      ],
      "text/plain": [
       "                                              Review  Rating\n",
       "0  nice hotel expensive parking got good deal sta...       4\n",
       "1  unique, great stay, wonderful time hotel monac...       5\n",
       "2  great stay great stay, went seahawk game aweso...       5\n",
       "3  love monaco staff husband stayed hotel crazy w...       5\n",
       "4  cozy stay rainy city, husband spent 7 nights m...       5"
      ]
     },
     "execution_count": 16,
     "metadata": {},
     "output_type": "execute_result"
    }
   ],
   "source": [
    "df_all.head()"
   ]
  },
  {
   "cell_type": "code",
   "execution_count": 17,
   "id": "d43d018b",
   "metadata": {},
   "outputs": [],
   "source": [
    "df_all['Sentiment'] = np.where(df_all['Rating'] >= 4, 'Positive', 'Negetive')"
   ]
  },
  {
   "cell_type": "code",
   "execution_count": 18,
   "id": "fbfc99de",
   "metadata": {},
   "outputs": [
    {
     "data": {
      "text/html": [
       "<div>\n",
       "<style scoped>\n",
       "    .dataframe tbody tr th:only-of-type {\n",
       "        vertical-align: middle;\n",
       "    }\n",
       "\n",
       "    .dataframe tbody tr th {\n",
       "        vertical-align: top;\n",
       "    }\n",
       "\n",
       "    .dataframe thead th {\n",
       "        text-align: right;\n",
       "    }\n",
       "</style>\n",
       "<table border=\"1\" class=\"dataframe\">\n",
       "  <thead>\n",
       "    <tr style=\"text-align: right;\">\n",
       "      <th></th>\n",
       "      <th>Review</th>\n",
       "      <th>Rating</th>\n",
       "      <th>Sentiment</th>\n",
       "    </tr>\n",
       "  </thead>\n",
       "  <tbody>\n",
       "    <tr>\n",
       "      <th>0</th>\n",
       "      <td>nice hotel expensive parking got good deal sta...</td>\n",
       "      <td>4</td>\n",
       "      <td>Positive</td>\n",
       "    </tr>\n",
       "    <tr>\n",
       "      <th>1</th>\n",
       "      <td>unique, great stay, wonderful time hotel monac...</td>\n",
       "      <td>5</td>\n",
       "      <td>Positive</td>\n",
       "    </tr>\n",
       "    <tr>\n",
       "      <th>2</th>\n",
       "      <td>great stay great stay, went seahawk game aweso...</td>\n",
       "      <td>5</td>\n",
       "      <td>Positive</td>\n",
       "    </tr>\n",
       "    <tr>\n",
       "      <th>3</th>\n",
       "      <td>love monaco staff husband stayed hotel crazy w...</td>\n",
       "      <td>5</td>\n",
       "      <td>Positive</td>\n",
       "    </tr>\n",
       "    <tr>\n",
       "      <th>4</th>\n",
       "      <td>cozy stay rainy city, husband spent 7 nights m...</td>\n",
       "      <td>5</td>\n",
       "      <td>Positive</td>\n",
       "    </tr>\n",
       "    <tr>\n",
       "      <th>...</th>\n",
       "      <td>...</td>\n",
       "      <td>...</td>\n",
       "      <td>...</td>\n",
       "    </tr>\n",
       "    <tr>\n",
       "      <th>3209</th>\n",
       "      <td>deceptive staff deceptive desk staff claiming ...</td>\n",
       "      <td>2</td>\n",
       "      <td>Negetive</td>\n",
       "    </tr>\n",
       "    <tr>\n",
       "      <th>3210</th>\n",
       "      <td>not impressed unfriendly staff checked asked h...</td>\n",
       "      <td>2</td>\n",
       "      <td>Negetive</td>\n",
       "    </tr>\n",
       "    <tr>\n",
       "      <th>3211</th>\n",
       "      <td>ok just looks nice modern outside, desk staff ...</td>\n",
       "      <td>2</td>\n",
       "      <td>Negetive</td>\n",
       "    </tr>\n",
       "    <tr>\n",
       "      <th>3212</th>\n",
       "      <td>hotel theft ruined vacation hotel opened sept ...</td>\n",
       "      <td>1</td>\n",
       "      <td>Negetive</td>\n",
       "    </tr>\n",
       "    <tr>\n",
       "      <th>3213</th>\n",
       "      <td>people talking, ca n't believe excellent ratin...</td>\n",
       "      <td>2</td>\n",
       "      <td>Negetive</td>\n",
       "    </tr>\n",
       "  </tbody>\n",
       "</table>\n",
       "<p>6429 rows × 3 columns</p>\n",
       "</div>"
      ],
      "text/plain": [
       "                                                 Review  Rating Sentiment\n",
       "0     nice hotel expensive parking got good deal sta...       4  Positive\n",
       "1     unique, great stay, wonderful time hotel monac...       5  Positive\n",
       "2     great stay great stay, went seahawk game aweso...       5  Positive\n",
       "3     love monaco staff husband stayed hotel crazy w...       5  Positive\n",
       "4     cozy stay rainy city, husband spent 7 nights m...       5  Positive\n",
       "...                                                 ...     ...       ...\n",
       "3209  deceptive staff deceptive desk staff claiming ...       2  Negetive\n",
       "3210  not impressed unfriendly staff checked asked h...       2  Negetive\n",
       "3211  ok just looks nice modern outside, desk staff ...       2  Negetive\n",
       "3212  hotel theft ruined vacation hotel opened sept ...       1  Negetive\n",
       "3213  people talking, ca n't believe excellent ratin...       2  Negetive\n",
       "\n",
       "[6429 rows x 3 columns]"
      ]
     },
     "execution_count": 18,
     "metadata": {},
     "output_type": "execute_result"
    }
   ],
   "source": [
    "df_all"
   ]
  },
  {
   "cell_type": "code",
   "execution_count": 43,
   "id": "390b036b",
   "metadata": {},
   "outputs": [
    {
     "name": "stdout",
     "output_type": "stream",
     "text": [
      "0    nice hotel expensive parking got good deal sta...\n",
      "0    ok nothing special charge diamond member hilto...\n",
      "Name: Review, dtype: object\n"
     ]
    }
   ],
   "source": [
    "review_at_index = df_all.loc[0,'Review']\n",
    "print(review_at_index)\n"
   ]
  },
  {
   "cell_type": "markdown",
   "id": "4f07ab19",
   "metadata": {},
   "source": [
    "# TRAIN_TEST_SPLIT"
   ]
  },
  {
   "cell_type": "code",
   "execution_count": 19,
   "id": "8edf5f14",
   "metadata": {},
   "outputs": [],
   "source": [
    "from sklearn.model_selection import train_test_split\n",
    "x_train,x_test,y_train,y_test = train_test_split(df_all.Review,df_all.Sentiment,random_state=42)"
   ]
  },
  {
   "cell_type": "markdown",
   "id": "bed7b10f",
   "metadata": {},
   "source": [
    "# Vectorizing "
   ]
  },
  {
   "cell_type": "code",
   "execution_count": 20,
   "id": "bf20f09e",
   "metadata": {},
   "outputs": [
    {
     "name": "stderr",
     "output_type": "stream",
     "text": [
      "/Users/data_course/opt/anaconda3/lib/python3.9/site-packages/sklearn/utils/deprecation.py:87: FutureWarning: Function get_feature_names is deprecated; get_feature_names is deprecated in 1.0 and will be removed in 1.2. Please use get_feature_names_out instead.\n",
      "  warnings.warn(msg, category=FutureWarning)\n"
     ]
    }
   ],
   "source": [
    "from sklearn.feature_extraction.text import CountVectorizer\n",
    "# CountVectorizer with desired n-gram value\n",
    "vc = CountVectorizer(ngram_range=(1,2))  # Generates from 1 to 3 grams\n",
    "x_train_vec = vc.fit_transform(x_train)\n",
    "\n",
    "# Get the feature names \n",
    "#feature_names2 = vc.get_feature_names()"
   ]
  },
  {
   "cell_type": "markdown",
   "id": "2d6c7df3",
   "metadata": {},
   "source": [
    "# Training the model LogisticRegression"
   ]
  },
  {
   "cell_type": "code",
   "execution_count": 21,
   "id": "b4c75064",
   "metadata": {},
   "outputs": [
    {
     "data": {
      "text/plain": [
       "LogisticRegression()"
      ]
     },
     "execution_count": 21,
     "metadata": {},
     "output_type": "execute_result"
    }
   ],
   "source": [
    "from sklearn.linear_model import LogisticRegression\n",
    "model= LogisticRegression()\n",
    "model.fit(x_train_vec,y_train)"
   ]
  },
  {
   "cell_type": "markdown",
   "id": "6de0e6d2",
   "metadata": {},
   "source": [
    "# Predicting "
   ]
  },
  {
   "cell_type": "code",
   "execution_count": 25,
   "id": "075ac036",
   "metadata": {},
   "outputs": [],
   "source": [
    "predictions = model.predict(vc.transform(x_test)) #using test set"
   ]
  },
  {
   "cell_type": "code",
   "execution_count": 26,
   "id": "dc29e36f",
   "metadata": {},
   "outputs": [
    {
     "data": {
      "text/plain": [
       "array(['Positive', 'Positive', 'Negetive', ..., 'Positive', 'Negetive',\n",
       "       'Positive'], dtype=object)"
      ]
     },
     "execution_count": 26,
     "metadata": {},
     "output_type": "execute_result"
    }
   ],
   "source": [
    "predctions"
   ]
  },
  {
   "cell_type": "code",
   "execution_count": 27,
   "id": "ee25ac49",
   "metadata": {},
   "outputs": [
    {
     "name": "stdout",
     "output_type": "stream",
     "text": [
      "Accuracy: 0.9496268656716418\n"
     ]
    }
   ],
   "source": [
    "from sklearn.metrics import accuracy_score\n",
    "accuracy = accuracy_score(y_test, predictions)\n",
    "print(\"Accuracy:\", accuracy)\n"
   ]
  },
  {
   "cell_type": "code",
   "execution_count": 28,
   "id": "cb0c040d",
   "metadata": {},
   "outputs": [
    {
     "name": "stdout",
     "output_type": "stream",
     "text": [
      "F1 Score: 0.9496187591672952\n"
     ]
    }
   ],
   "source": [
    "from sklearn.metrics import f1_score\n",
    "\n",
    "f1 = f1_score(y_test, predictions, average='weighted')\n",
    "print(\"F1 Score:\", f1)\n"
   ]
  },
  {
   "cell_type": "code",
   "execution_count": 44,
   "id": "d217bc4d",
   "metadata": {},
   "outputs": [
    {
     "data": {
      "text/plain": [
       "array(['Positive', 'Negetive'], dtype=object)"
      ]
     },
     "execution_count": 44,
     "metadata": {},
     "output_type": "execute_result"
    }
   ],
   "source": [
    "rev = [\"Hotel's bed were really clean and comfortable\", \"Hotel's toilet was really dirty\"]\n",
    "rev_vec = vc.transform(rev)\n",
    "model.predict(rev_vec)\n"
   ]
  },
  {
   "cell_type": "markdown",
   "id": "fb25562c",
   "metadata": {},
   "source": [
    "- What are n-grams  (1.5 pts)\n",
    "- Why might you use n-grams (1.5 pts)\n",
    "- Why would there be a risk for overfitting the data with n-grams (1.5 pts)\n",
    "- Earlier, we basically wanted to get rid off punctuations, but here, why we might want to use them here? (2 pts)\n"
   ]
  },
  {
   "cell_type": "code",
   "execution_count": null,
   "id": "a27d5bb2",
   "metadata": {},
   "outputs": [],
   "source": []
  }
 ],
 "metadata": {
  "kernelspec": {
   "display_name": "Python 3 (ipykernel)",
   "language": "python",
   "name": "python3"
  },
  "language_info": {
   "codemirror_mode": {
    "name": "ipython",
    "version": 3
   },
   "file_extension": ".py",
   "mimetype": "text/x-python",
   "name": "python",
   "nbconvert_exporter": "python",
   "pygments_lexer": "ipython3",
   "version": "3.9.13"
  }
 },
 "nbformat": 4,
 "nbformat_minor": 5
}
